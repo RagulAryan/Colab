{
  "nbformat": 4,
  "nbformat_minor": 0,
  "metadata": {
    "colab": {
      "name": "Nyra.ipynb",
      "provenance": [],
      "authorship_tag": "ABX9TyOAhfMsUJTFBFs3mC5BLWqS",
      "include_colab_link": true
    },
    "kernelspec": {
      "name": "python3",
      "display_name": "Python 3"
    },
    "language_info": {
      "name": "python"
    }
  },
  "cells": [
    {
      "cell_type": "markdown",
      "metadata": {
        "id": "view-in-github",
        "colab_type": "text"
      },
      "source": [
        "<a href=\"https://colab.research.google.com/github/RagulAryan/Colab/blob/main/Nyra.ipynb\" target=\"_parent\"><img src=\"https://colab.research.google.com/assets/colab-badge.svg\" alt=\"Open In Colab\"/></a>"
      ]
    },
    {
      "cell_type": "code",
      "execution_count": 1,
      "metadata": {
        "id": "5nR1Gjx5X9Wd",
        "colab": {
          "base_uri": "https://localhost:8080/"
        },
        "outputId": "b919ae20-7383-4fd9-d73c-677534eb2178"
      },
      "outputs": [
        {
          "output_type": "stream",
          "name": "stdout",
          "text": [
            "hi ragul, Nyra here!\n"
          ]
        }
      ],
      "source": [
        "print('hi ragul, Nyra here!')"
      ]
    },
    {
      "cell_type": "code",
      "source": [
        ""
      ],
      "metadata": {
        "id": "lGbgs0eG7TnM"
      },
      "execution_count": null,
      "outputs": []
    }
  ]
}