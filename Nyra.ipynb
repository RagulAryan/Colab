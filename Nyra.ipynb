{
  "nbformat": 4,
  "nbformat_minor": 0,
  "metadata": {
    "colab": {
      "name": "Nyra.ipynb",
      "provenance": [],
      "authorship_tag": "ABX9TyOK/qph8d4Qh65pWYpQjxra",
      "include_colab_link": true
    },
    "kernelspec": {
      "name": "python3",
      "display_name": "Python 3"
    },
    "language_info": {
      "name": "python"
    }
  },
  "cells": [
    {
      "cell_type": "markdown",
      "metadata": {
        "id": "view-in-github",
        "colab_type": "text"
      },
      "source": [
        "<a href=\"https://colab.research.google.com/github/RagulAryan/Colab/blob/main/Nyra.ipynb\" target=\"_parent\"><img src=\"https://colab.research.google.com/assets/colab-badge.svg\" alt=\"Open In Colab\"/></a>"
      ]
    },
    {
      "cell_type": "code",
      "execution_count": null,
      "metadata": {
        "id": "5nR1Gjx5X9Wd",
        "colab": {
          "base_uri": "https://localhost:8080/"
        },
        "outputId": "38f7482c-a8a9-4c4b-fd87-f95d540be7f6"
      },
      "outputs": [
        {
          "output_type": "stream",
          "name": "stdout",
          "text": [
            "Who is this? Ragul\n",
            "Hi Ragul, Nyra here!\n"
          ]
        }
      ],
      "source": [
        "def call(name):\n",
        "  print('Hi '+name+', Nyra here!')\n",
        "\n",
        "if __name__=='__main__':\n",
        "  call(input('Who is this? '))"
      ]
    },
    {
      "cell_type": "code",
      "source": [
        "from web3 import Web3\n",
        "w3 = Web3()"
      ],
      "metadata": {
        "id": "10McMMnl36Rl"
      },
      "execution_count": 12,
      "outputs": []
    },
    {
      "cell_type": "code",
      "source": [
        "acct = w3.eth.account.create()\n"
      ],
      "metadata": {
        "id": "TZYvQWgM4VGW"
      },
      "execution_count": 13,
      "outputs": []
    },
    {
      "cell_type": "code",
      "source": [
        "acct.address"
      ],
      "metadata": {
        "colab": {
          "base_uri": "https://localhost:8080/",
          "height": 35
        },
        "id": "VTzZNUlq4Ycj",
        "outputId": "2fc9c53c-0147-4eb9-fa9c-9a4f65f7ba2b"
      },
      "execution_count": 14,
      "outputs": [
        {
          "output_type": "execute_result",
          "data": {
            "text/plain": [
              "'0x0028bfc2D103E4ABec044b9CD0d93939DDc21487'"
            ],
            "application/vnd.google.colaboratory.intrinsic+json": {
              "type": "string"
            }
          },
          "metadata": {},
          "execution_count": 14
        }
      ]
    },
    {
      "cell_type": "code",
      "source": [
        "acct.key"
      ],
      "metadata": {
        "colab": {
          "base_uri": "https://localhost:8080/"
        },
        "id": "aD25d5Ma4bdc",
        "outputId": "b3619394-6082-4993-aefa-577d448ede56"
      },
      "execution_count": 15,
      "outputs": [
        {
          "output_type": "execute_result",
          "data": {
            "text/plain": [
              "HexBytes('0xe9cfa7c67ed7a68bd076aa6358191d7a19b6cede137572b0e4778e4f0dc81ada')"
            ]
          },
          "metadata": {},
          "execution_count": 15
        }
      ]
    },
    {
      "cell_type": "code",
      "source": [
        ""
      ],
      "metadata": {
        "id": "GbqqUaGg4fzN"
      },
      "execution_count": null,
      "outputs": []
    }
  ]
}